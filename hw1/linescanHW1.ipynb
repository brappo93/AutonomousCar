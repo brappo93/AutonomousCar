{
 "cells": [
  {
   "cell_type": "markdown",
   "metadata": {},
   "source": [
    "# EECS192 Spring 2016Track Finding from 1D line sensor data"
   ]
  },
  {
   "cell_type": "code",
   "execution_count": 1,
   "metadata": {
    "collapsed": true
   },
   "outputs": [],
   "source": [
    "# changed to use 8 bit compressed line sensor values\n",
    "# data format: 128 comma separated values, last value in line has space, not comma\n",
    "# line samples are about 10 ms apart"
   ]
  },
  {
   "cell_type": "code",
   "execution_count": 2,
   "metadata": {
    "collapsed": false
   },
   "outputs": [
    {
     "name": "stdout",
     "output_type": "stream",
     "text": [
      "Using matplotlib backend: MacOSX\n",
      "Populating the interactive namespace from numpy and matplotlib\n"
     ]
    }
   ],
   "source": [
    "%pylab"
   ]
  },
  {
   "cell_type": "code",
   "execution_count": 95,
   "metadata": {
    "collapsed": true
   },
   "outputs": [],
   "source": [
    "import numpy as np\n",
    "import scipy as sp\n",
    "import matplotlib.pyplot as plt\n",
    "import scipy.ndimage as ndi  # useful for 1d filtering functions\n",
    "from scipy.signal import gaussian\n",
    "from scipy.optimize import curve_fit\n",
    "\n",
    "# comment the following line to have external plots\n",
    "%matplotlib inline"
   ]
  },
  {
   "cell_type": "code",
   "execution_count": 96,
   "metadata": {
    "collapsed": false
   },
   "outputs": [],
   "source": [
    "# Graphing helper function\n",
    "def setup_graph(title='', x_label='', y_label='', fig_size=None):\n",
    "    fig = plt.figure()\n",
    "    if fig_size != None:\n",
    "        fig.set_size_inches(fig_size[0], fig_size[1])\n",
    "    ax = fig.add_subplot(111)\n",
    "    ax.set_title(title)\n",
    "    ax.set_xlabel(x_label)\n",
    "    ax.set_ylabel(y_label)"
   ]
  },
  {
   "cell_type": "markdown",
   "metadata": {},
   "source": [
    "Line scan plotting function.\n"
   ]
  },
  {
   "cell_type": "code",
   "execution_count": 97,
   "metadata": {
    "collapsed": false
   },
   "outputs": [],
   "source": [
    "def plot_frame(linearray):\n",
    "    nframes = np.size(linearray)/128\n",
    "    n = range(0,128)\n",
    "    print 'number of frames', nframes\n",
    "    print 'size of line', np.size(linearray[0,:])\n",
    "    for i in range(0, nframes-1):\n",
    "        setup_graph(title='$x[n]$', x_label='$n$', y_label='row'+str(i)+' $ xa[n]$', fig_size=(15,2))\n",
    "        plt.subplot(1,3,1)\n",
    "        _ = plt.plot(n,linearray[0,:])\n",
    "        plt.subplot(1,3,2)\n",
    "        _ = plt.plot(n,linearray[i,:])\n",
    "    # plot simple difference between frame i and first frame\n",
    "        plt.subplot(1,3,3)\n",
    "        _ = plt.plot(n,linearray[i,:] - linearray[0,:])\n",
    "        plt.ylabel('Frame n - Frame 0')"
   ]
  },
  {
   "cell_type": "markdown",
   "metadata": {},
   "source": [
    "### grayscale plotting of line function:\n"
   ]
  },
  {
   "cell_type": "code",
   "execution_count": 98,
   "metadata": {
    "collapsed": false
   },
   "outputs": [],
   "source": [
    "CAMERA_LENGTH = 128\n",
    "INTENSITY_MIN = 0\n",
    "INTENSITY_MAX = 255\n",
    "def plot_gray(fig, camera_data):\n",
    "  # x fencepost positions of each data matrix element\n",
    "  x_mesh = []\n",
    "  for i in range(0, len(camera_data)+1):\n",
    "    x_mesh.append([i-0.5] * (CAMERA_LENGTH + 1))\n",
    "  x_mesh = np.array(x_mesh)\n",
    "  \n",
    "  # y fencepost positions of each data matrix element\n",
    "  y_array = range(0, CAMERA_LENGTH + 1)\n",
    "  y_array = list(map(lambda x: x - 0.5, y_array))\n",
    "  y_mesh = np.array([y_array] * (len(camera_data)+1))\n",
    "    \n",
    "  data_mesh = np.array(camera_data)\n",
    "  vmax1 = np.max(data_mesh)\n",
    "  data_mesh = INTENSITY_MAX * data_mesh/vmax1  # normalize intensity\n",
    "  fig.set_xlim([-0.5, len(camera_data) - 0.5])\n",
    "  fig.set_ylim([-8.5, CAMERA_LENGTH - 0.5])\n",
    "\n",
    "  fig.pcolorfast(x_mesh, y_mesh, data_mesh,\n",
    "      cmap='gray', vmin=INTENSITY_MIN, vmax=INTENSITY_MAX,\n",
    "      interpolation='None')"
   ]
  },
  {
   "cell_type": "code",
   "execution_count": 183,
   "metadata": {
    "collapsed": false
   },
   "outputs": [],
   "source": [
    "### inputs:\n",
    "# linescans - An array of length n where each element is an array of length 128. Represents n frames of linescan data.\n",
    "\n",
    "### outputs:\n",
    "# track_center_list - A length n array of integers from 0 to 127. Represents the predicted center of the line in each frame.\n",
    "# track_found_list - A length n array of booleans. Represents whether or not each frame contains a detected line.\n",
    "# cross_found_list - A length n array of booleans. Represents whether or not each fram contains a crossing.\n",
    "\n",
    "def find_track(linescans):\n",
    "    n = len(linescans)\n",
    "    track_center_list = n * [64]\n",
    "    track_found_list = n * [True]\n",
    "    cross_found_list = n * [False]\n",
    "    \n",
    "    ### Code to be added here\n",
    "    ###\n",
    "    ###\n",
    "    \n",
    "    \n",
    "    \n",
    "    curr = linescans[0]\n",
    "    #normalize\n",
    "    curr = curr - min(curr)\n",
    "    curr = curr / max(curr) * 255\n",
    "    \n",
    "    #make a base gaussian for center\n",
    "    c_gauss = gaussian(128,6) * 255\n",
    "    \n",
    "    #get starter 'best' values\n",
    "    bestDiff = sys.maxint\n",
    "    bestCGauss = c_gauss\n",
    "    bestCIndex = 0\n",
    "    \n",
    "    #find center\n",
    "    for i in range(128):\n",
    "        wat = np.concatenate((c_gauss[i+64:128], c_gauss[0:i+64]), axis=0)\n",
    "        diff = curr - wat\n",
    "        s = sum(diff**2)\n",
    "        if s<bestDiff:\n",
    "            bestDiff = s\n",
    "            bestCGauss = wat\n",
    "            bestCIndex = 128-i\n",
    "        #plot(wat)\n",
    "    \n",
    "    plot(curr)\n",
    "    plot(bestCGauss)\n",
    "    \n",
    "    \n",
    "    return track_center_list, track_found_list, cross_found_list"
   ]
  },
  {
   "cell_type": "code",
   "execution_count": 184,
   "metadata": {
    "collapsed": false
   },
   "outputs": [
    {
     "name": "stdout",
     "output_type": "stream",
     "text": [
      "number of frames 501\n"
     ]
    },
    {
     "data": {
      "image/png": "[encoded data removed]",
      "text/plain": [
       "<matplotlib.figure.Figure at 0x113e79c50>"
      ]
     },
     "metadata": {},
     "output_type": "display_data"
    }
   ],
   "source": [
    "#linea = np.genfromtxt('ee192_sp14_camera_testdata_a.csv', delimiter=\",\")\n",
    "linea = np.genfromtxt('inner_step_cir18002300.csv', delimiter=\",\")\n",
    "nframes = np.size(linea)/128\n",
    "print 'number of frames', nframes\n",
    " \n",
    "linescans = [] \n",
    "for i in range(0, nframes): \n",
    "    line = linea[i,0:128]\n",
    "    linescans.append(line)\n",
    "\n",
    "track_center_list, track_found_list, cross_found_list = find_track(linescans)\n",
    "#for i, (track_center, track_found, cross_found) in enumerate(zip(track_center_list, track_found_list, cross_found_list)):\n",
    "    #print 'scan # %d center at %d. Track_found = %s, Cross_found = %s' %(i,track_center,track_found, cross_found)"
   ]
  },
  {
   "cell_type": "markdown",
   "metadata": {},
   "source": [
    "### Set A linescans"
   ]
  },
  {
   "cell_type": "code",
   "execution_count": 11,
   "metadata": {
    "collapsed": false
   },
   "outputs": [
    {
     "name": "stdout",
     "output_type": "stream",
     "text": [
      "line1: [  26.   21.   21.   22.   22.   23.   24.   25.   26.   27.   28.   29.\n",
      "   29.   29.   29.   30.   31.   34.   37.   41.   45.   49.   52.   57.\n",
      "   59.   63.   67.   68.   69.   71.   71.   73.   74.   76.   76.   78.\n",
      "   78.   80.   80.   80.   80.   81.   80.   81.   81.   82.   82.   82.\n",
      "   82.   82.   82.   83.   84.   83.   85.   85.   84.   85.   85.   85.\n",
      "   91.  106.  124.  138.  146.  153.  156.  161.  161.  160.  156.  152.\n",
      "  140.  122.  106.   95.   92.   92.   91.   92.   90.   91.   91.   91.\n",
      "   91.   91.   89.   89.   88.   88.   86.   85.   84.   82.   81.   81.\n",
      "   80.   79.   78.   75.   74.   71.   67.   62.   57.   53.   48.   42.\n",
      "   37.   32.   29.   29.   28.   28.   27.   27.   26.   25.   24.   23.\n",
      "   23.   22.   21.   21.   20.   20.   20.   21.]\n",
      "line2: [  26.   21.   21.   22.   22.   23.   24.   25.   26.   27.   28.   29.\n",
      "   29.   29.   29.   30.   31.   34.   37.   42.   45.   49.   53.   57.\n",
      "   60.   63.   67.   68.   69.   72.   72.   74.   76.   77.   78.   79.\n",
      "   80.   81.   81.   82.   81.   83.   81.   82.   82.   82.   82.   83.\n",
      "   82.   83.   83.   84.   85.   84.   85.   86.   85.   86.   86.   87.\n",
      "   99.  116.  134.  144.  150.  156.  158.  161.  160.  158.  153.  146.\n",
      "  131.  112.   98.   93.   92.   92.   92.   93.   91.   91.   91.   91.\n",
      "   91.   91.   89.   89.   88.   88.   86.   86.   84.   83.   82.   82.\n",
      "   80.   79.   78.   75.   74.   71.   67.   63.   58.   53.   48.   43.\n",
      "   37.   33.   30.   29.   28.   28.   28.   27.   26.   25.   24.   24.\n",
      "   23.   22.   21.   21.   20.   20.   20.   21.]\n",
      "(501, 128)\n"
     ]
    },
    {
     "data": {
      "image/png": "[encoded data removed]",
      "text/plain": [
       "<matplotlib.figure.Figure at 0x1101cfa10>"
      ]
     },
     "metadata": {},
     "output_type": "display_data"
    }
   ],
   "source": [
    "n = range(0,129)\n",
    "#linea = np.genfromtxt('ee192_sp14_camera_testdata_a.csv', delimiter=\",\")\n",
    "filename = 'inner_step_cir18002300.csv'\n",
    "#linea = np.genfromtxt('inner_step_cir1800-2300.csv', delimiter=\",\")\n",
    "linea = np.genfromtxt(filename, delimiter=\",\")\n",
    "#linea = np.genfromtxt('extract-lines.txt', delimiter=\",\")\n",
    "line1 = linea[0,:]\n",
    "print 'line1:',line1\n",
    "line2=linea[1,:]\n",
    "print 'line2:',line2\n",
    "#plot_frame(linea)\n",
    "print linea.shape\n",
    "\n",
    "plt.suptitle(\"%s\\n%s\" % (file, filename))     \n",
    "ax = plt.subplot(1, 1, 1)\n",
    "plot_gray(ax, linea)"
   ]
  },
  {
   "cell_type": "markdown",
   "metadata": {},
   "source": [
    "### Set B line scans"
   ]
  },
  {
   "cell_type": "code",
   "execution_count": null,
   "metadata": {
    "collapsed": false
   },
   "outputs": [],
   "source": [
    "#lineb = np.genfromtxt('extract-lines.txt', delimiter=\",\")\n",
    "filename='inner_step_cir150500.csv'\n",
    "lineb = np.genfromtxt(filename, delimiter=\",\")\n",
    "#plot_frame(lineb)\n",
    "line1 = lineb[0,:]\n",
    "print line1\n",
    "plt.suptitle(\"%s\\n%s\" % (file, filename))     \n",
    "ax = plt.subplot(1, 1, 1)\n",
    "plot_gray(ax, lineb)"
   ]
  },
  {
   "cell_type": "markdown",
   "metadata": {},
   "source": [
    "### Set C linescans"
   ]
  },
  {
   "cell_type": "code",
   "execution_count": null,
   "metadata": {
    "collapsed": false
   },
   "outputs": [],
   "source": [
    "filename='inner_step_cir5001000.csv'\n",
    "#linec = np.genfromtxt('inner_step_cir500-1000.csv', delimiter=\",\")\n",
    "linec = np.genfromtxt(filename, delimiter=\",\")\n",
    "line1 = linec[0,:]\n",
    "print line1\n",
    "#plot_frame(linec)\n",
    "plt.suptitle(\"%s\\n%s\" % (file, filename))     \n",
    "ax = plt.subplot(1, 1, 1)\n",
    "plot_gray(ax, linec)"
   ]
  },
  {
   "cell_type": "code",
   "execution_count": null,
   "metadata": {
    "collapsed": false
   },
   "outputs": [],
   "source": []
  },
  {
   "cell_type": "code",
   "execution_count": null,
   "metadata": {
    "collapsed": false
   },
   "outputs": [],
   "source": []
  }
 ],
 "metadata": {
  "kernelspec": {
   "display_name": "Python 2",
   "language": "python",
   "name": "python2"
  },
  "language_info": {
   "codemirror_mode": {
    "name": "ipython",
    "version": 2
   },
   "file_extension": ".py",
   "mimetype": "text/x-python",
   "name": "python",
   "nbconvert_exporter": "python",
   "pygments_lexer": "ipython2",
   "version": "2.7.11"
  }
 },
 "nbformat": 4,
 "nbformat_minor": 0
}
